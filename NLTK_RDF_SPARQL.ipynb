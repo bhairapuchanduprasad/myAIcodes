{
  "nbformat": 4,
  "nbformat_minor": 0,
  "metadata": {
    "colab": {
      "provenance": []
    },
    "kernelspec": {
      "name": "python3",
      "display_name": "Python 3"
    },
    "language_info": {
      "name": "python"
    }
  },
  "cells": [
    {
      "cell_type": "code",
      "execution_count": 2,
      "metadata": {
        "colab": {
          "base_uri": "https://localhost:8080/"
        },
        "id": "9dPlSUJJp5_n",
        "outputId": "4ca4ad30-9755-4c66-9703-c668b109ad31"
      },
      "outputs": [
        {
          "output_type": "stream",
          "name": "stderr",
          "text": [
            "[nltk_data] Downloading package punkt to /root/nltk_data...\n",
            "[nltk_data]   Unzipping tokenizers/punkt.zip.\n"
          ]
        },
        {
          "output_type": "execute_result",
          "data": {
            "text/plain": [
              "True"
            ]
          },
          "metadata": {},
          "execution_count": 2
        }
      ],
      "source": [
        "import nltk\n",
        "nltk.download('punkt')"
      ]
    },
    {
      "cell_type": "code",
      "source": [
        "text=\"\"\"The most important topics in Reinforcement Learning are MonteCarlo Method, \n",
        "Bellman Equation, Hidden Markov Model, Action Selection, Multi Armed Bandit.\n",
        "Neural Network also has Backpropogation. Convolutional Neural Network is highly suitable for Computer Vision, Object Recognition, Self Driving.\n",
        "Convolutional Neural Network has Convolutional Layer, Pooling Layer, Fully Connected Layer. There are many types of \n",
        "Recurrent Neural Network some of them are ONE_TO_ONE RNN, ONE_TO_MANY RNN, MANY_TO_ONE RNN, MANY_TO_MANY RNN and \n",
        "also the most popular one Long Short Term Memory(LSTM).\n",
        " \"\"\"\n",
        "\n",
        "sentences = nltk.sent_tokenize(text)\n",
        "print(text)\n",
        "print(\"Sentences:\", sentences)"
      ],
      "metadata": {
        "colab": {
          "base_uri": "https://localhost:8080/"
        },
        "id": "wTeZTji2qXUF",
        "outputId": "907be75c-28e6-496d-f3b9-d0f1e21080fe"
      },
      "execution_count": 3,
      "outputs": [
        {
          "output_type": "stream",
          "name": "stdout",
          "text": [
            "The most important topics in Reinforcement Learning are MonteCarlo Method, \n",
            "Bellman Equation, Hidden Markov Model, Action Selection, Multi Armed Bandit.\n",
            "Neural Network also has Backpropogation. Convolutional Neural Network is highly suitable for Computer Vision, Object Recognition, Self Driving.\n",
            "Convolutional Neural Network has Convolutional Layer, Pooling Layer, Fully Connected Layer. There are many types of \n",
            "Recurrent Neural Network some of them are ONE_TO_ONE RNN, ONE_TO_MANY RNN, MANY_TO_ONE RNN, MANY_TO_MANY RNN and \n",
            "also the most popular one Long Short Term Memory(LSTM).\n",
            " \n",
            "Sentences: ['The most important topics in Reinforcement Learning are MonteCarlo Method, \\nBellman Equation, Hidden Markov Model, Action Selection, Multi Armed Bandit.', 'Neural Network also has Backpropogation.', 'Convolutional Neural Network is highly suitable for Computer Vision, Object Recognition, Self Driving.', 'Convolutional Neural Network has Convolutional Layer, Pooling Layer, Fully Connected Layer.', 'There are many types of \\nRecurrent Neural Network some of them are ONE_TO_ONE RNN, ONE_TO_MANY RNN, MANY_TO_ONE RNN, MANY_TO_MANY RNN and \\nalso the most popular one Long Short Term Memory(LSTM).']\n"
          ]
        }
      ]
    },
    {
      "cell_type": "code",
      "source": [
        "token_sentences = [nltk.word_tokenize(sent) for sent in sentences]\n",
        "print(\"Tokens: \", token_sentences)"
      ],
      "metadata": {
        "colab": {
          "base_uri": "https://localhost:8080/"
        },
        "id": "4VKv0ItRqom5",
        "outputId": "a5d54960-b437-49be-faad-1fbfa1fa2ebb"
      },
      "execution_count": 4,
      "outputs": [
        {
          "output_type": "stream",
          "name": "stdout",
          "text": [
            "Tokens:  [['The', 'most', 'important', 'topics', 'in', 'Reinforcement', 'Learning', 'are', 'MonteCarlo', 'Method', ',', 'Bellman', 'Equation', ',', 'Hidden', 'Markov', 'Model', ',', 'Action', 'Selection', ',', 'Multi', 'Armed', 'Bandit', '.'], ['Neural', 'Network', 'also', 'has', 'Backpropogation', '.'], ['Convolutional', 'Neural', 'Network', 'is', 'highly', 'suitable', 'for', 'Computer', 'Vision', ',', 'Object', 'Recognition', ',', 'Self', 'Driving', '.'], ['Convolutional', 'Neural', 'Network', 'has', 'Convolutional', 'Layer', ',', 'Pooling', 'Layer', ',', 'Fully', 'Connected', 'Layer', '.'], ['There', 'are', 'many', 'types', 'of', 'Recurrent', 'Neural', 'Network', 'some', 'of', 'them', 'are', 'ONE_TO_ONE', 'RNN', ',', 'ONE_TO_MANY', 'RNN', ',', 'MANY_TO_ONE', 'RNN', ',', 'MANY_TO_MANY', 'RNN', 'and', 'also', 'the', 'most', 'popular', 'one', 'Long', 'Short', 'Term', 'Memory', '(', 'LSTM', ')', '.']]\n"
          ]
        }
      ]
    },
    {
      "cell_type": "code",
      "source": [
        "nltk.download('averaged_perceptron_tagger')\n",
        "\n",
        "pos_sentences = [nltk.pos_tag(sent) for sent in token_sentences]\n",
        "print(\"POS-tagged: \", pos_sentences)"
      ],
      "metadata": {
        "colab": {
          "base_uri": "https://localhost:8080/"
        },
        "id": "L-Kz1cULq6Li",
        "outputId": "174d3530-68e8-49e7-a3f4-eae25594e35c"
      },
      "execution_count": 5,
      "outputs": [
        {
          "output_type": "stream",
          "name": "stdout",
          "text": [
            "POS-tagged:  [[('The', 'DT'), ('most', 'RBS'), ('important', 'JJ'), ('topics', 'NNS'), ('in', 'IN'), ('Reinforcement', 'NNP'), ('Learning', 'NNP'), ('are', 'VBP'), ('MonteCarlo', 'NNP'), ('Method', 'NNP'), (',', ','), ('Bellman', 'NNP'), ('Equation', 'NNP'), (',', ','), ('Hidden', 'NNP'), ('Markov', 'NNP'), ('Model', 'NNP'), (',', ','), ('Action', 'NNP'), ('Selection', 'NNP'), (',', ','), ('Multi', 'NNP'), ('Armed', 'NNP'), ('Bandit', 'NNP'), ('.', '.')], [('Neural', 'NNP'), ('Network', 'NNP'), ('also', 'RB'), ('has', 'VBZ'), ('Backpropogation', 'NN'), ('.', '.')], [('Convolutional', 'NNP'), ('Neural', 'NNP'), ('Network', 'NNP'), ('is', 'VBZ'), ('highly', 'RB'), ('suitable', 'JJ'), ('for', 'IN'), ('Computer', 'NNP'), ('Vision', 'NNP'), (',', ','), ('Object', 'NNP'), ('Recognition', 'NNP'), (',', ','), ('Self', 'NNP'), ('Driving', 'NNP'), ('.', '.')], [('Convolutional', 'NNP'), ('Neural', 'NNP'), ('Network', 'NNP'), ('has', 'VBZ'), ('Convolutional', 'NNP'), ('Layer', 'NNP'), (',', ','), ('Pooling', 'NNP'), ('Layer', 'NNP'), (',', ','), ('Fully', 'NNP'), ('Connected', 'NNP'), ('Layer', 'NNP'), ('.', '.')], [('There', 'EX'), ('are', 'VBP'), ('many', 'JJ'), ('types', 'NNS'), ('of', 'IN'), ('Recurrent', 'NNP'), ('Neural', 'NNP'), ('Network', 'NNP'), ('some', 'DT'), ('of', 'IN'), ('them', 'PRP'), ('are', 'VBP'), ('ONE_TO_ONE', 'NNP'), ('RNN', 'NNP'), (',', ','), ('ONE_TO_MANY', 'NNP'), ('RNN', 'NNP'), (',', ','), ('MANY_TO_ONE', 'NNP'), ('RNN', 'NNP'), (',', ','), ('MANY_TO_MANY', 'NNP'), ('RNN', 'NNP'), ('and', 'CC'), ('also', 'RB'), ('the', 'DT'), ('most', 'RBS'), ('popular', 'JJ'), ('one', 'CD'), ('Long', 'NNP'), ('Short', 'NNP'), ('Term', 'NNP'), ('Memory', 'NNP'), ('(', '('), ('LSTM', 'NNP'), (')', ')'), ('.', '.')]]\n"
          ]
        },
        {
          "output_type": "stream",
          "name": "stderr",
          "text": [
            "[nltk_data] Downloading package averaged_perceptron_tagger to\n",
            "[nltk_data]     /root/nltk_data...\n",
            "[nltk_data]   Unzipping taggers/averaged_perceptron_tagger.zip.\n"
          ]
        }
      ]
    },
    {
      "cell_type": "markdown",
      "source": [
        "**CHUNKING WITH REGULAR EXPRESSIONS**"
      ],
      "metadata": {
        "id": "FexkSgcIlaNd"
      }
    },
    {
      "cell_type": "code",
      "source": [
        "import re\n",
        "grammar = r\"\"\"\n",
        "  NP: {<NNP>+}            # chunk sequences of consecuitive proper nouns\n",
        "      {<NN>+}              # chunk sequences of Consecuitive nouns\n",
        "      {<NN|NNP\\$>*<NN|NNP$>} # Chunk sequences which have two or more nouns     # chunk Nouns or proper nouns, verbs and noun or proper Nouns\n",
        "\"\"\"\n",
        "\n",
        "cp = nltk.RegexpParser(grammar) \n",
        "lis=[]\n",
        "for sentence in pos_sentences:\n",
        "  result = cp.parse(sentence)\n",
        "  l=[]\n",
        "  for x in result: \n",
        "    print(x)\n",
        "    x=str(x)\n",
        "    #regular Expression Pattern To remove Postags\n",
        "    pattern = r'\\ \\w+' \n",
        "    res = re.findall(pattern, x)      \n",
        "    res = [item.strip(' ') for item in res]\n",
        "    #Joining consecuitive nouns with *_* \n",
        "    #(example:-Convolutional Neural Network:- Convolutional_Neural_Network)\n",
        "    res='_'.join(res)         \n",
        "    l.append(res)\n",
        "  lis.append(l)\n"
      ],
      "metadata": {
        "colab": {
          "base_uri": "https://localhost:8080/"
        },
        "id": "kx9fkq22DWy0",
        "outputId": "e37f5c13-ade9-4046-c208-a372f1406b88"
      },
      "execution_count": 6,
      "outputs": [
        {
          "output_type": "stream",
          "name": "stdout",
          "text": [
            "('The', 'DT')\n",
            "('most', 'RBS')\n",
            "('important', 'JJ')\n",
            "('topics', 'NNS')\n",
            "('in', 'IN')\n",
            "(NP Reinforcement/NNP Learning/NNP)\n",
            "('are', 'VBP')\n",
            "(NP MonteCarlo/NNP Method/NNP)\n",
            "(',', ',')\n",
            "(NP Bellman/NNP Equation/NNP)\n",
            "(',', ',')\n",
            "(NP Hidden/NNP Markov/NNP Model/NNP)\n",
            "(',', ',')\n",
            "(NP Action/NNP Selection/NNP)\n",
            "(',', ',')\n",
            "(NP Multi/NNP Armed/NNP Bandit/NNP)\n",
            "('.', '.')\n",
            "(NP Neural/NNP Network/NNP)\n",
            "('also', 'RB')\n",
            "('has', 'VBZ')\n",
            "(NP Backpropogation/NN)\n",
            "('.', '.')\n",
            "(NP Convolutional/NNP Neural/NNP Network/NNP)\n",
            "('is', 'VBZ')\n",
            "('highly', 'RB')\n",
            "('suitable', 'JJ')\n",
            "('for', 'IN')\n",
            "(NP Computer/NNP Vision/NNP)\n",
            "(',', ',')\n",
            "(NP Object/NNP Recognition/NNP)\n",
            "(',', ',')\n",
            "(NP Self/NNP Driving/NNP)\n",
            "('.', '.')\n",
            "(NP Convolutional/NNP Neural/NNP Network/NNP)\n",
            "('has', 'VBZ')\n",
            "(NP Convolutional/NNP Layer/NNP)\n",
            "(',', ',')\n",
            "(NP Pooling/NNP Layer/NNP)\n",
            "(',', ',')\n",
            "(NP Fully/NNP Connected/NNP Layer/NNP)\n",
            "('.', '.')\n",
            "('There', 'EX')\n",
            "('are', 'VBP')\n",
            "('many', 'JJ')\n",
            "('types', 'NNS')\n",
            "('of', 'IN')\n",
            "(NP Recurrent/NNP Neural/NNP Network/NNP)\n",
            "('some', 'DT')\n",
            "('of', 'IN')\n",
            "('them', 'PRP')\n",
            "('are', 'VBP')\n",
            "(NP ONE_TO_ONE/NNP RNN/NNP)\n",
            "(',', ',')\n",
            "(NP ONE_TO_MANY/NNP RNN/NNP)\n",
            "(',', ',')\n",
            "(NP MANY_TO_ONE/NNP RNN/NNP)\n",
            "(',', ',')\n",
            "(NP MANY_TO_MANY/NNP RNN/NNP)\n",
            "('and', 'CC')\n",
            "('also', 'RB')\n",
            "('the', 'DT')\n",
            "('most', 'RBS')\n",
            "('popular', 'JJ')\n",
            "('one', 'CD')\n",
            "(NP Long/NNP Short/NNP Term/NNP Memory/NNP)\n",
            "('(', '(')\n",
            "(NP LSTM/NNP)\n",
            "(')', ')')\n",
            "('.', '.')\n"
          ]
        }
      ]
    },
    {
      "cell_type": "code",
      "source": [
        "triples=[]\n",
        "for i in lis:\n",
        "  i = [x for x in i if x != '']\n",
        "  triples.append(i)\n",
        "for i in triples:\n",
        "  print(i)"
      ],
      "metadata": {
        "id": "ERPdm1ZAafiD",
        "colab": {
          "base_uri": "https://localhost:8080/"
        },
        "outputId": "c58dfb78-27a4-423e-b7f1-1e13ac36f00b"
      },
      "execution_count": 7,
      "outputs": [
        {
          "output_type": "stream",
          "name": "stdout",
          "text": [
            "['Reinforcement_Learning', 'MonteCarlo_Method', 'Bellman_Equation', 'Hidden_Markov_Model', 'Action_Selection', 'Multi_Armed_Bandit']\n",
            "['Neural_Network', 'Backpropogation']\n",
            "['Convolutional_Neural_Network', 'Computer_Vision', 'Object_Recognition', 'Self_Driving']\n",
            "['Convolutional_Neural_Network', 'Convolutional_Layer', 'Pooling_Layer', 'Fully_Connected_Layer']\n",
            "['Recurrent_Neural_Network', 'ONE_TO_ONE_RNN', 'ONE_TO_MANY_RNN', 'MANY_TO_ONE_RNN', 'MANY_TO_MANY_RNN', 'Long_Short_Term_Memory', 'LSTM']\n"
          ]
        }
      ]
    },
    {
      "cell_type": "code",
      "source": [
        "%%capture\n",
        "!pip3 install rdflib pydotplus graphviz\n",
        "\n",
        "from rdflib import Graph\n",
        "from rdflib.namespace import DC, RDF, FOAF, RDFS, DCTERMS, XSD, SDO\n",
        "from rdflib import URIRef, BNode, Literal, Namespace"
      ],
      "metadata": {
        "id": "bwkvM5M8c8XE"
      },
      "execution_count": 8,
      "outputs": []
    },
    {
      "cell_type": "code",
      "source": [
        "#first import the graph\n",
        "# then initialize it\n",
        "g = Graph()\n",
        "g.parse(\"/content/ontology-40.ttl\") # path of your Owl file\n",
        "uri= 'http://www.semanticweb.org/chris/ontologies/2022/10/untitled-ontology-40#'\n"
      ],
      "metadata": {
        "id": "D04yTnmjc8ZZ"
      },
      "execution_count": 10,
      "outputs": []
    },
    {
      "cell_type": "code",
      "source": [
        "for i in triples:\n",
        "  obj = URIRef(uri+i[0])\n",
        "  for j in i[1:]:\n",
        "    subject = URIRef(uri+j)\n",
        "    g.add((subject,RDF.type,obj))\n",
        "    print(f\"{obj} ---> {subject}\")\n"
      ],
      "metadata": {
        "colab": {
          "base_uri": "https://localhost:8080/"
        },
        "id": "v-VxRSWMmb9q",
        "outputId": "346439c5-546b-482f-dded-bdc1508eddcd"
      },
      "execution_count": 17,
      "outputs": [
        {
          "output_type": "stream",
          "name": "stdout",
          "text": [
            "http://www.semanticweb.org/chris/ontologies/2022/10/untitled-ontology-40#Reinforcement_Learning ---> http://www.semanticweb.org/chris/ontologies/2022/10/untitled-ontology-40#MonteCarlo_Method\n",
            "http://www.semanticweb.org/chris/ontologies/2022/10/untitled-ontology-40#Reinforcement_Learning ---> http://www.semanticweb.org/chris/ontologies/2022/10/untitled-ontology-40#Bellman_Equation\n",
            "http://www.semanticweb.org/chris/ontologies/2022/10/untitled-ontology-40#Reinforcement_Learning ---> http://www.semanticweb.org/chris/ontologies/2022/10/untitled-ontology-40#Hidden_Markov_Model\n",
            "http://www.semanticweb.org/chris/ontologies/2022/10/untitled-ontology-40#Reinforcement_Learning ---> http://www.semanticweb.org/chris/ontologies/2022/10/untitled-ontology-40#Action_Selection\n",
            "http://www.semanticweb.org/chris/ontologies/2022/10/untitled-ontology-40#Reinforcement_Learning ---> http://www.semanticweb.org/chris/ontologies/2022/10/untitled-ontology-40#Multi_Armed_Bandit\n",
            "http://www.semanticweb.org/chris/ontologies/2022/10/untitled-ontology-40#Neural_Network ---> http://www.semanticweb.org/chris/ontologies/2022/10/untitled-ontology-40#Backpropogation\n",
            "http://www.semanticweb.org/chris/ontologies/2022/10/untitled-ontology-40#Convolutional_Neural_Network ---> http://www.semanticweb.org/chris/ontologies/2022/10/untitled-ontology-40#Computer_Vision\n",
            "http://www.semanticweb.org/chris/ontologies/2022/10/untitled-ontology-40#Convolutional_Neural_Network ---> http://www.semanticweb.org/chris/ontologies/2022/10/untitled-ontology-40#Object_Recognition\n",
            "http://www.semanticweb.org/chris/ontologies/2022/10/untitled-ontology-40#Convolutional_Neural_Network ---> http://www.semanticweb.org/chris/ontologies/2022/10/untitled-ontology-40#Self_Driving\n",
            "http://www.semanticweb.org/chris/ontologies/2022/10/untitled-ontology-40#Convolutional_Neural_Network ---> http://www.semanticweb.org/chris/ontologies/2022/10/untitled-ontology-40#Convolutional_Layer\n",
            "http://www.semanticweb.org/chris/ontologies/2022/10/untitled-ontology-40#Convolutional_Neural_Network ---> http://www.semanticweb.org/chris/ontologies/2022/10/untitled-ontology-40#Pooling_Layer\n",
            "http://www.semanticweb.org/chris/ontologies/2022/10/untitled-ontology-40#Convolutional_Neural_Network ---> http://www.semanticweb.org/chris/ontologies/2022/10/untitled-ontology-40#Fully_Connected_Layer\n",
            "http://www.semanticweb.org/chris/ontologies/2022/10/untitled-ontology-40#Recurrent_Neural_Network ---> http://www.semanticweb.org/chris/ontologies/2022/10/untitled-ontology-40#ONE_TO_ONE_RNN\n",
            "http://www.semanticweb.org/chris/ontologies/2022/10/untitled-ontology-40#Recurrent_Neural_Network ---> http://www.semanticweb.org/chris/ontologies/2022/10/untitled-ontology-40#ONE_TO_MANY_RNN\n",
            "http://www.semanticweb.org/chris/ontologies/2022/10/untitled-ontology-40#Recurrent_Neural_Network ---> http://www.semanticweb.org/chris/ontologies/2022/10/untitled-ontology-40#MANY_TO_ONE_RNN\n",
            "http://www.semanticweb.org/chris/ontologies/2022/10/untitled-ontology-40#Recurrent_Neural_Network ---> http://www.semanticweb.org/chris/ontologies/2022/10/untitled-ontology-40#MANY_TO_MANY_RNN\n",
            "http://www.semanticweb.org/chris/ontologies/2022/10/untitled-ontology-40#Recurrent_Neural_Network ---> http://www.semanticweb.org/chris/ontologies/2022/10/untitled-ontology-40#Long_Short_Term_Memory\n",
            "http://www.semanticweb.org/chris/ontologies/2022/10/untitled-ontology-40#Recurrent_Neural_Network ---> http://www.semanticweb.org/chris/ontologies/2022/10/untitled-ontology-40#LSTM\n"
          ]
        }
      ]
    },
    {
      "cell_type": "markdown",
      "source": [
        "Exporting In Turtle Format\n"
      ],
      "metadata": {
        "id": "QA45JpJqvwsd"
      }
    },
    {
      "cell_type": "code",
      "source": [
        "g.serialize(destination=\"/content\",format=\"turtle\")"
      ],
      "metadata": {
        "colab": {
          "base_uri": "https://localhost:8080/"
        },
        "id": "5kbBzjqUoEAv",
        "outputId": "8b34fbae-21f7-4a01-b5e7-6458395ecbcc"
      },
      "execution_count": 18,
      "outputs": [
        {
          "output_type": "execute_result",
          "data": {
            "text/plain": [
              "<Graph identifier=N31252d914ba94515a89aa7bd8b015055 (<class 'rdflib.graph.Graph'>)>"
            ]
          },
          "metadata": {},
          "execution_count": 18
        }
      ]
    },
    {
      "cell_type": "markdown",
      "source": [
        "Retrieve Information Through SPARQL Queries"
      ],
      "metadata": {
        "id": "nHMqCZ9Yv1-A"
      }
    },
    {
      "cell_type": "code",
      "source": [
        "!pip install rdflib"
      ],
      "metadata": {
        "colab": {
          "base_uri": "https://localhost:8080/"
        },
        "id": "7BM936k9wWr9",
        "outputId": "a05d11c0-a6b7-401c-a9aa-f5db430e1d2e"
      },
      "execution_count": 19,
      "outputs": [
        {
          "output_type": "stream",
          "name": "stdout",
          "text": [
            "Looking in indexes: https://pypi.org/simple, https://us-python.pkg.dev/colab-wheels/public/simple/\n",
            "Requirement already satisfied: rdflib in /usr/local/lib/python3.8/dist-packages (6.2.0)\n",
            "Requirement already satisfied: isodate in /usr/local/lib/python3.8/dist-packages (from rdflib) (0.6.1)\n",
            "Requirement already satisfied: pyparsing in /usr/local/lib/python3.8/dist-packages (from rdflib) (3.0.9)\n",
            "Requirement already satisfied: setuptools in /usr/local/lib/python3.8/dist-packages (from rdflib) (57.4.0)\n",
            "Requirement already satisfied: six in /usr/local/lib/python3.8/dist-packages (from isodate->rdflib) (1.15.0)\n"
          ]
        }
      ]
    },
    {
      "cell_type": "code",
      "source": [
        "import rdflib\n",
        "g = rdflib.Graph()\n",
        "g.parse(\"/content/ontology-40.ttl\", format=\"turtle\")\n",
        "\n"
      ],
      "metadata": {
        "colab": {
          "base_uri": "https://localhost:8080/"
        },
        "id": "Ekw8BI2jwfJH",
        "outputId": "5ed6f1ae-b764-43d3-ce88-2859de3ce77d"
      },
      "execution_count": 20,
      "outputs": [
        {
          "output_type": "execute_result",
          "data": {
            "text/plain": [
              "<Graph identifier=N193d177f196a4649be768b0a1a24e278 (<class 'rdflib.graph.Graph'>)>"
            ]
          },
          "metadata": {},
          "execution_count": 20
        }
      ]
    },
    {
      "cell_type": "code",
      "source": [
        "prefix=\"http://www.semanticweb.org/chris/ontologies/2022/10/untitled-ontology-40#\"\n",
        "query=\"\"\"\n",
        "SELECT ?entity ?x \n",
        "WHERE { ?x rdfs:subClassOf* :Recurrent_Neural_Network.\n",
        "                  ?entity rdf:type ?x .\n",
        "                  }\n",
        "  \"\"\"\n",
        "qres = g.query(query)\n",
        "\n",
        "for row in qres :\n",
        "  print(f\"{row.x.replace(prefix,'')} has {row.entity.replace(prefix,'')}\")"
      ],
      "metadata": {
        "colab": {
          "base_uri": "https://localhost:8080/"
        },
        "id": "2BKuILD0wmv1",
        "outputId": "99e7dc86-eb16-4b9c-ae66-aa2665a1ebe9"
      },
      "execution_count": 21,
      "outputs": [
        {
          "output_type": "stream",
          "name": "stdout",
          "text": [
            "Recurrent_Neural_Network has LSTM\n",
            "Recurrent_Neural_Network has Long_Short_Term_Memory\n",
            "Recurrent_Neural_Network has MANY_TO_MANY_RNN\n",
            "Recurrent_Neural_Network has MANY_TO_ONE_RNN\n",
            "Recurrent_Neural_Network has ONE_TO_MANY_RNN\n",
            "Recurrent_Neural_Network has ONE_TO_ONE_RNN\n"
          ]
        }
      ]
    },
    {
      "cell_type": "code",
      "source": [
        "prefix=\"http://www.semanticweb.org/chris/ontologies/2022/10/untitled-ontology-40#\"\n",
        "query=\"\"\"\n",
        "SELECT ?entity ?x \n",
        "WHERE { ?x rdfs:subClassOf* :Neural_Network.\n",
        "                  ?entity rdf:type ?x .\n",
        "                  }\n",
        "  \"\"\"\n",
        "qres = g.query(query)\n",
        "\n",
        "for row in qres :\n",
        "  print(f\"{row.x.replace(prefix,'')} has {row.entity.replace(prefix,'')}\")"
      ],
      "metadata": {
        "colab": {
          "base_uri": "https://localhost:8080/"
        },
        "id": "9jWdh_pEwojL",
        "outputId": "c963b02b-5187-4d62-835c-8e3aff562dcf"
      },
      "execution_count": 22,
      "outputs": [
        {
          "output_type": "stream",
          "name": "stdout",
          "text": [
            "Neural_Network has Backpropogation\n",
            "Activation_Functions has http://webprotege.stanford.edu/R71aVWtfDTNlbmZwWBTx1MS\n",
            "Activation_Functions has http://webprotege.stanford.edu/R7LEjavOrTkovYaR4TaxelG\n",
            "Activation_Functions has http://webprotege.stanford.edu/R7wCHWF3g4NVJnVgAKm3GwQ\n",
            "Activation_Functions has http://webprotege.stanford.edu/R9XMOHOH04BhCjVIiSJCIIQ\n",
            "Activation_Functions has http://webprotege.stanford.edu/RBfXRA0GGayDQNKy8YHHqla\n",
            "Activation_Functions has http://webprotege.stanford.edu/RIUrcnOJSc8n2tGjQunoZE\n",
            "Optimization has http://webprotege.stanford.edu/R8LMp5qpWPOloxVkVjV6GQ9\n",
            "Optimization has http://webprotege.stanford.edu/RBPo5IKol6Jfl0oF2cZOjK2\n",
            "Optimization has http://webprotege.stanford.edu/RCRUo7ukyeMS2KdRaTgmDTV\n",
            "Optimization has http://webprotege.stanford.edu/RD0lzMWj4QxNAbgRaeeaHbR\n",
            "Optimization has http://webprotege.stanford.edu/RDRWAEQ6VBbbWsvVdQBRu1c\n",
            "Optimization has http://webprotege.stanford.edu/RHmNbLsR4B1GFcMrQtwTpq\n",
            "Loss_Function has http://webprotege.stanford.edu/R7VnNLHokVc79yGlY4HiTbh\n",
            "Loss_Function has http://webprotege.stanford.edu/R7fEs1FIJfwsUiwMCNBeFY8\n",
            "Loss_Function has http://webprotege.stanford.edu/RC3INKrZ7WfWTatDjnYsEpv\n",
            "Loss_Function has http://webprotege.stanford.edu/RCOc82FNZTLjcuKxa5iIji1\n",
            "Loss_Function has http://webprotege.stanford.edu/RD1j7HeeJDcJaBaov0t9rTE\n",
            "Loss_Function has http://webprotege.stanford.edu/RDJkrPgoKPGkrdc3saIACjP\n",
            "Loss_Function has http://webprotege.stanford.edu/RDcUei2TbqzxBxz9UcR6286\n",
            "Loss_Function has http://webprotege.stanford.edu/RDpOrje7EDZSm15sTfc8onk\n",
            "Loss_Function has http://webprotege.stanford.edu/RbNq3aOGUIb2rKX61cTwEx\n",
            "Convolutional_Neural_Network has Computer_Vision\n",
            "Convolutional_Neural_Network has Convolutional_Layer\n",
            "Convolutional_Neural_Network has Fully_Connected_Layer\n",
            "Convolutional_Neural_Network has Object_Recognition\n",
            "Convolutional_Neural_Network has Pooling_Layer\n",
            "Convolutional_Neural_Network has Self_Driving\n",
            "Recurrent_Neural_Network has LSTM\n",
            "Recurrent_Neural_Network has Long_Short_Term_Memory\n",
            "Recurrent_Neural_Network has MANY_TO_MANY_RNN\n",
            "Recurrent_Neural_Network has MANY_TO_ONE_RNN\n",
            "Recurrent_Neural_Network has ONE_TO_MANY_RNN\n",
            "Recurrent_Neural_Network has ONE_TO_ONE_RNN\n"
          ]
        }
      ]
    },
    {
      "cell_type": "code",
      "source": [
        "prefix=\"http://www.semanticweb.org/chris/ontologies/2022/10/untitled-ontology-40#\"\n",
        "query = \"\"\"\n",
        "SELECT ?parentclass ?subclass \n",
        "WHERE { \n",
        "  ?a rdfs:subClassOf* ?b .\n",
        "  ?a rdf:subClassOf* ?parentclass.\n",
        "  ?b rdfs:subClassOf* ?subclass .\n",
        "}\"\"\"\n",
        "\n",
        "qres = g.query(query)\n",
        "\n",
        "for row in qres :\n",
        "  print(f\"{row.parentclass.replace(prefix,'')} has {row.subclass.replace(prefix,'')}\")"
      ],
      "metadata": {
        "colab": {
          "base_uri": "https://localhost:8080/"
        },
        "id": "_D3noRg9wrh8",
        "outputId": "0d953844-27fa-424c-e59d-72f29d2c9e0e"
      },
      "execution_count": 23,
      "outputs": [
        {
          "output_type": "stream",
          "name": "stdout",
          "text": [
            "http://webprotege.stanford.edu/R9tSlCENSsxUP14tDAEx4O4 has http://webprotege.stanford.edu/R9tSlCENSsxUP14tDAEx4O4\n",
            "Types_of_Matrix has Types_of_Matrix\n",
            "Types_of_Matrix has Matrix\n",
            "Types_of_Matrix has Linear_Algebra\n",
            "Types_of_Matrix has Mathematics\n",
            "isUsedIn has isUsedIn\n",
            "http://www.w3.org/2002/07/owl#ObjectProperty has http://www.w3.org/2002/07/owl#ObjectProperty\n",
            "Random_Variables has Random_Variables\n",
            "Random_Variables has Probability\n",
            "Random_Variables has Mathematics\n",
            "http://www.w3.org/2002/07/owl#Class has http://www.w3.org/2002/07/owl#Class\n",
            "http://webprotege.stanford.edu/RvMGeC3E3ck2EHRjaFC8of has http://webprotege.stanford.edu/RvMGeC3E3ck2EHRjaFC8of\n",
            "http://www.w3.org/2002/07/owl#NamedIndividual has http://www.w3.org/2002/07/owl#NamedIndividual\n",
            "nd0ffb4982bc442f4805a8c0f3d6a288fb3 has nd0ffb4982bc442f4805a8c0f3d6a288fb3\n",
            "Probability_Space has Probability_Space\n",
            "Probability_Space has Probability\n",
            "Probability_Space has Mathematics\n",
            "http://webprotege.stanford.edu/RBPo5IKol6Jfl0oF2cZOjK2 has http://webprotege.stanford.edu/RBPo5IKol6Jfl0oF2cZOjK2\n",
            "Optimization has Optimization\n",
            "Optimization has Multi_Layer_Perceptron\n",
            "Optimization has Neural_Network\n",
            "nd0ffb4982bc442f4805a8c0f3d6a288fb26 has nd0ffb4982bc442f4805a8c0f3d6a288fb26\n",
            "nd0ffb4982bc442f4805a8c0f3d6a288fb27 has nd0ffb4982bc442f4805a8c0f3d6a288fb27\n",
            "http://webprotege.stanford.edu/R7T3U5vOAqdukqZ1Hmb8ZxJ has http://webprotege.stanford.edu/R7T3U5vOAqdukqZ1Hmb8ZxJ\n",
            "Probability_Distributions has Probability_Distributions\n",
            "Probability_Distributions has Probability\n",
            "Probability_Distributions has Mathematics\n",
            "isA has isA\n",
            "Discrete_Random_Variable has Discrete_Random_Variable\n",
            "Discrete_Random_Variable has Random_Variables\n",
            "Discrete_Random_Variable has Probability\n",
            "Discrete_Random_Variable has Mathematics\n",
            "http://webprotege.stanford.edu/RBHqWK91Pk3D58WaQY43Ksd has http://webprotege.stanford.edu/RBHqWK91Pk3D58WaQY43Ksd\n",
            "nd0ffb4982bc442f4805a8c0f3d6a288fb10 has nd0ffb4982bc442f4805a8c0f3d6a288fb10\n",
            "nd0ffb4982bc442f4805a8c0f3d6a288fb11 has nd0ffb4982bc442f4805a8c0f3d6a288fb11\n",
            "Fully_Connected_Layer has Fully_Connected_Layer\n",
            "Convolutional_Neural_Network has Convolutional_Neural_Network\n",
            "Convolutional_Neural_Network has Neural_Network\n",
            "Probability has Probability\n",
            "Probability has Mathematics\n",
            "http://webprotege.stanford.edu/R7ombeX3pYGyfoV62U6Oc8u has http://webprotege.stanford.edu/R7ombeX3pYGyfoV62U6Oc8u\n",
            "Zero_Matrix has Zero_Matrix\n",
            "http://webprotege.stanford.edu/RC7DbjrdFyelxlOi1duZcDA has http://webprotege.stanford.edu/RC7DbjrdFyelxlOi1duZcDA\n",
            "http://webprotege.stanford.edu/R80yx6jpzT6fczYVWnutgV8 has http://webprotege.stanford.edu/R80yx6jpzT6fczYVWnutgV8\n",
            "Rules has Rules\n",
            "Rules has Probability\n",
            "Rules has Mathematics\n",
            "http://webprotege.stanford.edu/RBlXGuZMjfmLoq3FJe0iRcj has http://webprotege.stanford.edu/RBlXGuZMjfmLoq3FJe0iRcj\n",
            "http://webprotege.stanford.edu/RD0lzMWj4QxNAbgRaeeaHbR has http://webprotege.stanford.edu/RD0lzMWj4QxNAbgRaeeaHbR\n",
            "http://webprotege.stanford.edu/RfmSGKEm7te9c50njfFpa5 has http://webprotege.stanford.edu/RfmSGKEm7te9c50njfFpa5\n",
            "nd0ffb4982bc442f4805a8c0f3d6a288fb7 has nd0ffb4982bc442f4805a8c0f3d6a288fb7\n",
            "Reinforcement_Learning has Reinforcement_Learning\n",
            "Reinforcement_Learning has Artificial_Intelligence\n",
            "http://webprotege.stanford.edu/R7crxOfQbWLbsYjlym0dkAJ has http://webprotege.stanford.edu/R7crxOfQbWLbsYjlym0dkAJ\n",
            "nd0ffb4982bc442f4805a8c0f3d6a288fb6 has nd0ffb4982bc442f4805a8c0f3d6a288fb6\n",
            "nd0ffb4982bc442f4805a8c0f3d6a288fb13 has nd0ffb4982bc442f4805a8c0f3d6a288fb13\n",
            "Statistical_Measures has Statistical_Measures\n",
            "Statistical_Measures has Measures\n",
            "http://webprotege.stanford.edu/R7g2TfRTR7ul3ATky3jk5Gh has http://webprotege.stanford.edu/R7g2TfRTR7ul3ATky3jk5Gh\n",
            "Batch_Gradient_Descent has Batch_Gradient_Descent\n",
            "http://webprotege.stanford.edu/R7py3lJ9EefwbG65lqGmxEo has http://webprotege.stanford.edu/R7py3lJ9EefwbG65lqGmxEo\n",
            "http://webprotege.stanford.edu/RBSw2p579gtQGKZEBg0z3l1 has http://webprotege.stanford.edu/RBSw2p579gtQGKZEBg0z3l1\n",
            "Google's_Page_Rank has Google's_Page_Rank\n",
            "Neural_Network has Neural_Network\n",
            "http://www.w3.org/2002/07/owl#AllDisjointClasses has http://www.w3.org/2002/07/owl#AllDisjointClasses\n",
            "nd0ffb4982bc442f4805a8c0f3d6a288fb25 has nd0ffb4982bc442f4805a8c0f3d6a288fb25\n",
            "Calculus has Calculus\n",
            "Calculus has Mathematics\n",
            "http://webprotege.stanford.edu/R7fA25EekmpHh6kQ5XOXuCK has http://webprotege.stanford.edu/R7fA25EekmpHh6kQ5XOXuCK\n",
            "Unsupervised_Learning has Unsupervised_Learning\n",
            "Unsupervised_Learning has Artificial_Intelligence\n",
            "http://webprotege.stanford.edu/RHmNbLsR4B1GFcMrQtwTpq has http://webprotege.stanford.edu/RHmNbLsR4B1GFcMrQtwTpq\n",
            "Weight_Decay has Weight_Decay\n",
            "http://webprotege.stanford.edu/RCn4RxcUMAOczQzmDd4ZYzL has http://webprotege.stanford.edu/RCn4RxcUMAOczQzmDd4ZYzL\n",
            "Mathematics has Mathematics\n",
            "nd0ffb4982bc442f4805a8c0f3d6a288fb1 has nd0ffb4982bc442f4805a8c0f3d6a288fb1\n",
            "nd0ffb4982bc442f4805a8c0f3d6a288fb2 has nd0ffb4982bc442f4805a8c0f3d6a288fb2\n",
            "http://webprotege.stanford.edu/R9klTFInvvd3XHoys7bsf4Z has http://webprotege.stanford.edu/R9klTFInvvd3XHoys7bsf4Z\n",
            "http://webprotege.stanford.edu/R8kuIhafIGbifn7HaUZBYRX has http://webprotege.stanford.edu/R8kuIhafIGbifn7HaUZBYRX\n",
            "nd0ffb4982bc442f4805a8c0f3d6a288fb20 has nd0ffb4982bc442f4805a8c0f3d6a288fb20\n",
            "nd0ffb4982bc442f4805a8c0f3d6a288fb21 has nd0ffb4982bc442f4805a8c0f3d6a288fb21\n",
            "isBranchOf has isBranchOf\n",
            "http://www.semanticweb.org/chris/ontologies/2022/10/untitled-ontology-40 has http://www.semanticweb.org/chris/ontologies/2022/10/untitled-ontology-40\n",
            "http://www.w3.org/2002/07/owl#Ontology has http://www.w3.org/2002/07/owl#Ontology\n",
            "http://webprotege.stanford.edu/RDGyXqESGRTyn6yb11Pr6NI has http://webprotege.stanford.edu/RDGyXqESGRTyn6yb11Pr6NI\n",
            "Matrix has Matrix\n",
            "Matrix has Linear_Algebra\n",
            "Matrix has Mathematics\n",
            "nd0ffb4982bc442f4805a8c0f3d6a288fb18 has nd0ffb4982bc442f4805a8c0f3d6a288fb18\n",
            "http://www.w3.org/1999/02/22-rdf-syntax-ns#nil has http://www.w3.org/1999/02/22-rdf-syntax-ns#nil\n",
            "http://webprotege.stanford.edu/RCRUo7ukyeMS2KdRaTgmDTV has http://webprotege.stanford.edu/RCRUo7ukyeMS2KdRaTgmDTV\n",
            "Adam_Optimization has Adam_Optimization\n",
            "http://webprotege.stanford.edu/RCCSvwM7Yso5jb3aCMFtft has http://webprotege.stanford.edu/RCCSvwM7Yso5jb3aCMFtft\n",
            "ML_Classifiers has ML_Classifiers\n",
            "http://webprotege.stanford.edu/RD0FeAVqQzbMRlNf7CCljmL has http://webprotege.stanford.edu/RD0FeAVqQzbMRlNf7CCljmL\n",
            "http://webprotege.stanford.edu/R9c5JCBGmxWo5lMQaiFtv9r has http://webprotege.stanford.edu/R9c5JCBGmxWo5lMQaiFtv9r\n",
            "Square_Matrix has Square_Matrix\n",
            "http://webprotege.stanford.edu/RB7KpJR2fyQWtvMTofnIRtL has http://webprotege.stanford.edu/RB7KpJR2fyQWtvMTofnIRtL\n",
            "nd0ffb4982bc442f4805a8c0f3d6a288fb4 has nd0ffb4982bc442f4805a8c0f3d6a288fb4\n",
            "http://webprotege.stanford.edu/RDcUei2TbqzxBxz9UcR6286 has http://webprotege.stanford.edu/RDcUei2TbqzxBxz9UcR6286\n",
            "L1_Loss(MAE) has L1_Loss(MAE)\n",
            "http://webprotege.stanford.edu/RDXRP5BuzxpKzvNL57VbXp has http://webprotege.stanford.edu/RDXRP5BuzxpKzvNL57VbXp\n",
            "Importance_Matrix has Importance_Matrix\n",
            "http://webprotege.stanford.edu/RB9bfAweEgPbxmZxhtBwc6X has http://webprotege.stanford.edu/RB9bfAweEgPbxmZxhtBwc6X\n",
            "Co-variance has Co-variance\n",
            "Marginal_Probability has Marginal_Probability\n",
            "http://webprotege.stanford.edu/RBOliXhPLyOVGaOcvug4dGC has http://webprotege.stanford.edu/RBOliXhPLyOVGaOcvug4dGC\n",
            "http://webprotege.stanford.edu/RwETtSp3Xg4XS3x7cFx44i has http://webprotege.stanford.edu/RwETtSp3Xg4XS3x7cFx44i\n",
            "http://webprotege.stanford.edu/R8LMp5qpWPOloxVkVjV6GQ9 has http://webprotege.stanford.edu/R8LMp5qpWPOloxVkVjV6GQ9\n",
            "http://webprotege.stanford.edu/R0fo2XL8BPWhdbc7WhjY2t has http://webprotege.stanford.edu/R0fo2XL8BPWhdbc7WhjY2t\n",
            "http://webprotege.stanford.edu/RDJkrPgoKPGkrdc3saIACjP has http://webprotege.stanford.edu/RDJkrPgoKPGkrdc3saIACjP\n",
            "http://webprotege.stanford.edu/R8AnGPITzIdBk3jAF5t0eXu has http://webprotege.stanford.edu/R8AnGPITzIdBk3jAF5t0eXu\n",
            "Event_Space has Event_Space\n",
            "nd0ffb4982bc442f4805a8c0f3d6a288fb15 has nd0ffb4982bc442f4805a8c0f3d6a288fb15\n",
            "Artificial_Intelligence has Artificial_Intelligence\n",
            "http://webprotege.stanford.edu/RIUrcnOJSc8n2tGjQunoZE has http://webprotege.stanford.edu/RIUrcnOJSc8n2tGjQunoZE\n",
            "Activation_Functions has Activation_Functions\n",
            "Activation_Functions has Multi_Layer_Perceptron\n",
            "Activation_Functions has Neural_Network\n",
            "Multi_Layer_Perceptron has Multi_Layer_Perceptron\n",
            "Multi_Layer_Perceptron has Neural_Network\n",
            "isUsedWith has isUsedWith\n",
            "Measures has Measures\n",
            "Continuous_Random_Variable has Continuous_Random_Variable\n",
            "Continuous_Random_Variable has Random_Variables\n",
            "Continuous_Random_Variable has Probability\n",
            "Continuous_Random_Variable has Mathematics\n",
            "Loss_Function has Loss_Function\n",
            "Loss_Function has Multi_Layer_Perceptron\n",
            "Loss_Function has Neural_Network\n",
            "http://webprotege.stanford.edu/R8tSPJyA6kTq7ROXqCO0gZi has http://webprotege.stanford.edu/R8tSPJyA6kTq7ROXqCO0gZi\n",
            "isApplicationOf has isApplicationOf\n",
            "MANY_TO_ONE_RNN has MANY_TO_ONE_RNN\n",
            "Recurrent_Neural_Network has Recurrent_Neural_Network\n",
            "Recurrent_Neural_Network has Neural_Network\n",
            "http://webprotege.stanford.edu/RHt76x9if7oXuxnCRJxzC9 has http://webprotege.stanford.edu/RHt76x9if7oXuxnCRJxzC9\n",
            "http://webprotege.stanford.edu/RbNq3aOGUIb2rKX61cTwEx has http://webprotege.stanford.edu/RbNq3aOGUIb2rKX61cTwEx\n",
            "Cross_Entropy_Loss has Cross_Entropy_Loss\n",
            "nd0ffb4982bc442f4805a8c0f3d6a288fb23 has nd0ffb4982bc442f4805a8c0f3d6a288fb23\n",
            "http://webprotege.stanford.edu/RBSbwqmxKVFL82UBAWA7ldP has http://webprotege.stanford.edu/RBSbwqmxKVFL82UBAWA7ldP\n",
            "http://webprotege.stanford.edu/RBkVExkZOiOqX9WXyvwPBJZ has http://webprotege.stanford.edu/RBkVExkZOiOqX9WXyvwPBJZ\n",
            "Diagonal_Matrix has Diagonal_Matrix\n",
            "nd0ffb4982bc442f4805a8c0f3d6a288fb22 has nd0ffb4982bc442f4805a8c0f3d6a288fb22\n",
            "http://webprotege.stanford.edu/RCpXSebKytpLGzhkZYUEW65 has http://webprotege.stanford.edu/RCpXSebKytpLGzhkZYUEW65\n",
            "Chebyshev_Distance has Chebyshev_Distance\n",
            "http://webprotege.stanford.edu/Ra7JcbpOiiILBd0YOz1j54 has http://webprotege.stanford.edu/Ra7JcbpOiiILBd0YOz1j54\n",
            "http://webprotege.stanford.edu/R7JZDYP7CUMX6spG4KUsDLG has http://webprotege.stanford.edu/R7JZDYP7CUMX6spG4KUsDLG\n",
            "Arithmetic_Mean has Arithmetic_Mean\n",
            "http://webprotege.stanford.edu/R7VnNLHokVc79yGlY4HiTbh has http://webprotege.stanford.edu/R7VnNLHokVc79yGlY4HiTbh\n",
            "http://webprotege.stanford.edu/RCOc82FNZTLjcuKxa5iIji1 has http://webprotege.stanford.edu/RCOc82FNZTLjcuKxa5iIji1\n",
            "Triplet_Ranking_Loss has Triplet_Ranking_Loss\n",
            "http://webprotege.stanford.edu/RBIaO2DpmOoB5DXD4YLqeEv has http://webprotege.stanford.edu/RBIaO2DpmOoB5DXD4YLqeEv\n",
            "MonteCarlo_Method has MonteCarlo_Method\n",
            "http://webprotege.stanford.edu/RBJsDdZ4YHmOQns1vBTH00j has http://webprotege.stanford.edu/RBJsDdZ4YHmOQns1vBTH00j\n",
            "http://webprotege.stanford.edu/RCU1BB3WBulQgdXY9q8NkXH has http://webprotege.stanford.edu/RCU1BB3WBulQgdXY9q8NkXH\n",
            "Decomposition has Decomposition\n",
            "Decomposition has Matrix\n",
            "Decomposition has Linear_Algebra\n",
            "Decomposition has Mathematics\n",
            "nd0ffb4982bc442f4805a8c0f3d6a288fb12 has nd0ffb4982bc442f4805a8c0f3d6a288fb12\n",
            "Trace_of_Matrix has Trace_of_Matrix\n",
            "ONE_TO_MANY_RNN has ONE_TO_MANY_RNN\n",
            "http://webprotege.stanford.edu/RBwUleXqec5uK5Jq7BxjBSE has http://webprotege.stanford.edu/RBwUleXqec5uK5Jq7BxjBSE\n",
            "http://webprotege.stanford.edu/RYyhCUdlRc4SXW8fKZBmKV has http://webprotege.stanford.edu/RYyhCUdlRc4SXW8fKZBmKV\n",
            "Maximum_Distance has Maximum_Distance\n",
            "Linear_Algebra has Linear_Algebra\n",
            "Linear_Algebra has Mathematics\n",
            "Evaluation_Measure has Evaluation_Measure\n",
            "Evaluation_Measure has Measures\n",
            "http://webprotege.stanford.edu/R9XMOHOH04BhCjVIiSJCIIQ has http://webprotege.stanford.edu/R9XMOHOH04BhCjVIiSJCIIQ\n",
            "Mish_Activation has Mish_Activation\n",
            "http://webprotege.stanford.edu/R4ogmTwBNjhdQGh695athm has http://webprotege.stanford.edu/R4ogmTwBNjhdQGh695athm\n",
            "Evidence has Evidence\n",
            "http://webprotege.stanford.edu/R77vfuNyZ6Ghl5WOHwKigmd has http://webprotege.stanford.edu/R77vfuNyZ6Ghl5WOHwKigmd\n",
            "Continous_Distribution has Continous_Distribution\n",
            "http://webprotege.stanford.edu/RBfXRA0GGayDQNKy8YHHqla has http://webprotege.stanford.edu/RBfXRA0GGayDQNKy8YHHqla\n",
            "http://webprotege.stanford.edu/RDIZGwHXo8dQr6GCkJgvBDK has http://webprotege.stanford.edu/RDIZGwHXo8dQr6GCkJgvBDK\n",
            "Mini_Batch_Gradient_Descent has Mini_Batch_Gradient_Descent\n",
            "http://webprotege.stanford.edu/R7jq63usxNkXxTFTyGwjdOP has http://webprotege.stanford.edu/R7jq63usxNkXxTFTyGwjdOP\n",
            "Gated_Linear_Units has Gated_Linear_Units\n",
            "Gaussian_Distribution has Gaussian_Distribution\n",
            "nd0ffb4982bc442f4805a8c0f3d6a288fb16 has nd0ffb4982bc442f4805a8c0f3d6a288fb16\n",
            "http://webprotege.stanford.edu/R9klckrIea8dHVTgeAeItkP has http://webprotege.stanford.edu/R9klckrIea8dHVTgeAeItkP\n",
            "Sigmoid_Activation has Sigmoid_Activation\n",
            "http://webprotege.stanford.edu/RC3INKrZ7WfWTatDjnYsEpv has http://webprotege.stanford.edu/RC3INKrZ7WfWTatDjnYsEpv\n",
            "isKindOf has isKindOf\n",
            "nd0ffb4982bc442f4805a8c0f3d6a288fb14 has nd0ffb4982bc442f4805a8c0f3d6a288fb14\n",
            "Distance_Measures has Distance_Measures\n",
            "Distance_Measures has Measures\n",
            "http://webprotege.stanford.edu/RCrc4PG7jdsMV38ZmIB1lZJ has http://webprotege.stanford.edu/RCrc4PG7jdsMV38ZmIB1lZJ\n",
            "http://webprotege.stanford.edu/RDX53APQdJ0SZVHBPO81bic has http://webprotege.stanford.edu/RDX53APQdJ0SZVHBPO81bic\n",
            "Shortest_Path_Distance has Shortest_Path_Distance\n",
            "Support_Vector_Machines has Support_Vector_Machines\n",
            "Computer_Vision has Computer_Vision\n",
            "Dimensionality_Reduction has Dimensionality_Reduction\n",
            "Random_Forest has Random_Forest\n",
            "http://webprotege.stanford.edu/R7ucTeShslaeSEtgQbNrb1Z has http://webprotege.stanford.edu/R7ucTeShslaeSEtgQbNrb1Z\n",
            "nd0ffb4982bc442f4805a8c0f3d6a288fb5 has nd0ffb4982bc442f4805a8c0f3d6a288fb5\n",
            "http://webprotege.stanford.edu/R9UVMwG4wEwpuOcuOg7nBAs has http://webprotege.stanford.edu/R9UVMwG4wEwpuOcuOg7nBAs\n",
            "Prior has Prior\n",
            "http://webprotege.stanford.edu/R9JZcJ7Tz6mVi7qq1qwiy80 has http://webprotege.stanford.edu/R9JZcJ7Tz6mVi7qq1qwiy80\n",
            "Binomial_Distribution has Binomial_Distribution\n",
            "Posterior has Posterior\n",
            "isComponentOf has isComponentOf\n",
            "http://webprotege.stanford.edu/RDpOrje7EDZSm15sTfc8onk has http://webprotege.stanford.edu/RDpOrje7EDZSm15sTfc8onk\n",
            "Convolutional_Layer has Convolutional_Layer\n",
            "http://webprotege.stanford.edu/R7ZkymhnQSPDHKI21eY8sA5 has http://webprotege.stanford.edu/R7ZkymhnQSPDHKI21eY8sA5\n",
            "Cholesky_Decomposition has Cholesky_Decomposition\n",
            "Sum_Rule has Sum_Rule\n",
            "http://webprotege.stanford.edu/RDgAZCLWkQOxKE08ZtPuIbj has http://webprotege.stanford.edu/RDgAZCLWkQOxKE08ZtPuIbj\n",
            "Properties_of_Matrix has Properties_of_Matrix\n",
            "Properties_of_Matrix has Matrix\n",
            "Properties_of_Matrix has Linear_Algebra\n",
            "Properties_of_Matrix has Mathematics\n",
            "http://webprotege.stanford.edu/R7fEs1FIJfwsUiwMCNBeFY8 has http://webprotege.stanford.edu/R7fEs1FIJfwsUiwMCNBeFY8\n",
            "http://webprotege.stanford.edu/RhWUy84KLHFZA6qvnsxSKg has http://webprotege.stanford.edu/RhWUy84KLHFZA6qvnsxSKg\n",
            "Discrete_Distribution has Discrete_Distribution\n",
            "Long_Short_Term_Memory has Long_Short_Term_Memory\n",
            "http://webprotege.stanford.edu/R9WcuaLAKb85ZmmGGg0yoqq has http://webprotege.stanford.edu/R9WcuaLAKb85ZmmGGg0yoqq\n",
            "nd0ffb4982bc442f4805a8c0f3d6a288fb8 has nd0ffb4982bc442f4805a8c0f3d6a288fb8\n",
            "http://webprotege.stanford.edu/RSKGxFbAdGHrXQ0TU9PIaQ has http://webprotege.stanford.edu/RSKGxFbAdGHrXQ0TU9PIaQ\n",
            "isPartOf has isPartOf\n",
            "http://webprotege.stanford.edu/RBaaNOZtnwOtiGT2YI22fer has http://webprotege.stanford.edu/RBaaNOZtnwOtiGT2YI22fer\n",
            "Product_Rule has Product_Rule\n",
            "isArchitectureIn has isArchitectureIn\n",
            "http://webprotege.stanford.edu/RBHf4PZAvfAs6eRC1srSIGJ has http://webprotege.stanford.edu/RBHf4PZAvfAs6eRC1srSIGJ\n",
            "http://webprotege.stanford.edu/RDTDLMm2IVztBfZW1sx4fBo has http://webprotege.stanford.edu/RDTDLMm2IVztBfZW1sx4fBo\n",
            "Root_Mean_Square_Error has Root_Mean_Square_Error\n",
            "http://webprotege.stanford.edu/R7wCHWF3g4NVJnVgAKm3GwQ has http://webprotege.stanford.edu/R7wCHWF3g4NVJnVgAKm3GwQ\n",
            "isClassifierOf has isClassifierOf\n",
            "Supervised_Learning has Supervised_Learning\n",
            "Supervised_Learning has Artificial_Intelligence\n",
            "isConceptOf has isConceptOf\n",
            "Cumulative_Distribution_Function has Cumulative_Distribution_Function\n",
            "http://webprotege.stanford.edu/R7LEjavOrTkovYaR4TaxelG has http://webprotege.stanford.edu/R7LEjavOrTkovYaR4TaxelG\n",
            "Hinge_Loss has Hinge_Loss\n",
            "LSTM has LSTM\n",
            "http://webprotege.stanford.edu/RBq6vOsrlbhXDEUAxu86BM8 has http://webprotege.stanford.edu/RBq6vOsrlbhXDEUAxu86BM8\n",
            "isPrerequisiteFor has isPrerequisiteFor\n",
            "http://webprotege.stanford.edu/R8F04DrNiWADbJN2u485pVE has http://webprotege.stanford.edu/R8F04DrNiWADbJN2u485pVE\n",
            "Conditional_Probability has Conditional_Probability\n",
            "http://webprotege.stanford.edu/RC4icYirWdM1yPryH200sjJ has http://webprotege.stanford.edu/RC4icYirWdM1yPryH200sjJ\n",
            "Stochastic_Matrix has Stochastic_Matrix\n",
            "Bayes_Rule has Bayes_Rule\n",
            "Scalar_Matrix has Scalar_Matrix\n",
            "MANY_TO_MANY_RNN has MANY_TO_MANY_RNN\n",
            "http://webprotege.stanford.edu/R71aVWtfDTNlbmZwWBTx1MS has http://webprotege.stanford.edu/R71aVWtfDTNlbmZwWBTx1MS\n",
            "Exponential_Linear_Units has Exponential_Linear_Units\n",
            "http://webprotege.stanford.edu/RCjAFfLrT0DE9wnSqdgkT0R has http://webprotege.stanford.edu/RCjAFfLrT0DE9wnSqdgkT0R\n",
            "Swish_Activation has Swish_Activation\n",
            "http://webprotege.stanford.edu/RBxS2GMjPc7j7WdefSBDO6W has http://webprotege.stanford.edu/RBxS2GMjPc7j7WdefSBDO6W\n",
            "Backpropogation has Backpropogation\n",
            "http://webprotege.stanford.edu/RBK7y8gQLVU295sBeYInMrv has http://webprotege.stanford.edu/RBK7y8gQLVU295sBeYInMrv\n",
            "http://webprotege.stanford.edu/RC3xg0lG3R4ri2EnhQgT6J7 has http://webprotege.stanford.edu/RC3xg0lG3R4ri2EnhQgT6J7\n",
            "Eigenvalues_and_Eigenvectors has Eigenvalues_and_Eigenvectors\n",
            "http://webprotege.stanford.edu/RDCgBZ8rnGKQZ6HmndVf382 has http://webprotege.stanford.edu/RDCgBZ8rnGKQZ6HmndVf382\n",
            "http://webprotege.stanford.edu/Rc5uHwtRBhexIIAOOMeuK1 has http://webprotege.stanford.edu/Rc5uHwtRBhexIIAOOMeuK1\n",
            "Variance has Variance\n",
            "nd0ffb4982bc442f4805a8c0f3d6a288fb9 has nd0ffb4982bc442f4805a8c0f3d6a288fb9\n",
            "Singular_Value_Decomposition has Singular_Value_Decomposition\n",
            "Diagonalizable_Matrix has Diagonalizable_Matrix\n",
            "http://webprotege.stanford.edu/RDRWAEQ6VBbbWsvVdQBRu1c has http://webprotege.stanford.edu/RDRWAEQ6VBbbWsvVdQBRu1c\n",
            "Stochastic_Gradient_Descent has Stochastic_Gradient_Descent\n",
            "Maximum_Entropy has Maximum_Entropy\n",
            "http://webprotege.stanford.edu/RCChIyMk8qiUZl84udTudie has http://webprotege.stanford.edu/RCChIyMk8qiUZl84udTudie\n",
            "String_Edit_Distance has String_Edit_Distance\n",
            "http://webprotege.stanford.edu/RBTir1wZtBQgHE9Lya88Apx has http://webprotege.stanford.edu/RBTir1wZtBQgHE9Lya88Apx\n",
            "Multivariate_Gaussian_Distribution has Multivariate_Gaussian_Distribution\n",
            "Orthogonal_Matrix has Orthogonal_Matrix\n",
            "Probability_Density_Function has Probability_Density_Function\n",
            "Characteristic_Polynomial has Characteristic_Polynomial\n",
            "Row_Matrix has Row_Matrix\n",
            "Mean_Absolute_Error has Mean_Absolute_Error\n",
            "Univariate_Gaussain_Distribution has Univariate_Gaussain_Distribution\n",
            "http://www.w3.org/2002/07/owl#topObjectProperty has http://www.w3.org/2002/07/owl#topObjectProperty\n",
            "nd0ffb4982bc442f4805a8c0f3d6a288fb24 has nd0ffb4982bc442f4805a8c0f3d6a288fb24\n",
            "Manhattan_Distance has Manhattan_Distance\n",
            "Binary_Cross_Entropy_Loss has Binary_Cross_Entropy_Loss\n",
            "Determinant has Determinant\n",
            "Self_Driving has Self_Driving\n",
            "http://webprotege.stanford.edu/R7SORhYfeJCm2mnw3kfbaRO has http://webprotege.stanford.edu/R7SORhYfeJCm2mnw3kfbaRO\n",
            "nd0ffb4982bc442f4805a8c0f3d6a288fb17 has nd0ffb4982bc442f4805a8c0f3d6a288fb17\n",
            "nd0ffb4982bc442f4805a8c0f3d6a288fb19 has nd0ffb4982bc442f4805a8c0f3d6a288fb19\n",
            "http://webprotege.stanford.edu/RDPCW7iZ3UOgLmdigWERul has http://webprotege.stanford.edu/RDPCW7iZ3UOgLmdigWERul\n",
            "Bernoulli_Distribution has Bernoulli_Distribution\n",
            "http://webprotege.stanford.edu/RCFMt0X73TQaZ8ht7n2YYLy has http://webprotege.stanford.edu/RCFMt0X73TQaZ8ht7n2YYLy\n",
            "Regression has Regression\n",
            "Hamming_Distance has Hamming_Distance\n",
            "Bellman_Equation has Bellman_Equation\n",
            "Median has Median\n",
            "Naive_Bayes has Naive_Bayes\n",
            "http://webprotege.stanford.edu/RD1j7HeeJDcJaBaov0t9rTE has http://webprotege.stanford.edu/RD1j7HeeJDcJaBaov0t9rTE\n",
            "Contrasive_Loss has Contrasive_Loss\n",
            "http://webprotege.stanford.edu/RCostvYqYpUWb2ST246LLrO has http://webprotege.stanford.edu/RCostvYqYpUWb2ST246LLrO\n",
            "Logistic_Regression has Logistic_Regression\n",
            "Softmax_Function has Softmax_Function\n",
            "Geometric_Mean has Geometric_Mean\n",
            "Object_Recognition has Object_Recognition\n",
            "Tanh_Activation has Tanh_Activation\n",
            "Huber_Loss has Huber_Loss\n",
            "Discrete_Probability has Discrete_Probability\n",
            "Hidden_Markov_Model has Hidden_Markov_Model\n",
            "Identity_Matrix has Identity_Matrix\n",
            "Multi_Armed_Bandit has Multi_Armed_Bandit\n",
            "Beta_Distributions has Beta_Distributions\n",
            "ReLu_&_PReLu has ReLu_&_PReLu\n",
            "http://webprotege.stanford.edu/R9gOf7XplJ3NwjaARaVusJ3 has http://webprotege.stanford.edu/R9gOf7XplJ3NwjaARaVusJ3\n",
            "Joint_Probability has Joint_Probability\n",
            "Upper_Triangular_Matrix has Upper_Triangular_Matrix\n",
            "RMS_Prop has RMS_Prop\n",
            "Orthogonality has Orthogonality\n",
            "Euclidean_Distance has Euclidean_Distance\n",
            "Action_Selection has Action_Selection\n",
            "Lower_Triangular_Matrix has Lower_Triangular_Matrix\n",
            "K-Nearest_Neighbor has K-Nearest_Neighbor\n",
            "Eigen_Decomposition has Eigen_Decomposition\n",
            "Sample_Space has Sample_Space\n",
            "ONE_TO_ONE_RNN has ONE_TO_ONE_RNN\n",
            "EigenSpace has EigenSpace\n",
            "Likelihood has Likelihood\n",
            "Mean_Square_Error_Loss has Mean_Square_Error_Loss\n",
            "Symmetric_Matrix has Symmetric_Matrix\n",
            "Probability_Mass_Function has Probability_Mass_Function\n",
            "Clustering has Clustering\n",
            "Column_Matrix has Column_Matrix\n",
            "Pooling_Layer has Pooling_Layer\n",
            "Classification has Classification\n",
            "Calculus has Mathematics\n",
            "Linear_Algebra has Mathematics\n",
            "Probability has Mathematics\n",
            "Continuous_Random_Variable has Random_Variables\n",
            "Continuous_Random_Variable has Probability\n",
            "Continuous_Random_Variable has Mathematics\n",
            "Continuous_Random_Variable has Probability\n",
            "Continuous_Random_Variable has Mathematics\n",
            "Continuous_Random_Variable has Mathematics\n",
            "Discrete_Random_Variable has Random_Variables\n",
            "Discrete_Random_Variable has Probability\n",
            "Discrete_Random_Variable has Mathematics\n",
            "Discrete_Random_Variable has Probability\n",
            "Discrete_Random_Variable has Mathematics\n",
            "Discrete_Random_Variable has Mathematics\n",
            "Decomposition has Matrix\n",
            "Decomposition has Linear_Algebra\n",
            "Decomposition has Mathematics\n",
            "Decomposition has Linear_Algebra\n",
            "Decomposition has Mathematics\n",
            "Decomposition has Mathematics\n",
            "Properties_of_Matrix has Matrix\n",
            "Properties_of_Matrix has Linear_Algebra\n",
            "Properties_of_Matrix has Mathematics\n",
            "Properties_of_Matrix has Linear_Algebra\n",
            "Properties_of_Matrix has Mathematics\n",
            "Properties_of_Matrix has Mathematics\n",
            "Types_of_Matrix has Matrix\n",
            "Types_of_Matrix has Linear_Algebra\n",
            "Types_of_Matrix has Mathematics\n",
            "Types_of_Matrix has Linear_Algebra\n",
            "Types_of_Matrix has Mathematics\n",
            "Types_of_Matrix has Mathematics\n",
            "Evaluation_Measure has Measures\n",
            "Statistical_Measures has Measures\n",
            "Distance_Measures has Measures\n",
            "Probability_Space has Probability\n",
            "Probability_Space has Mathematics\n",
            "Probability_Space has Mathematics\n",
            "Random_Variables has Probability\n",
            "Random_Variables has Mathematics\n",
            "Random_Variables has Mathematics\n",
            "Rules has Probability\n",
            "Rules has Mathematics\n",
            "Rules has Mathematics\n",
            "Probability_Distributions has Probability\n",
            "Probability_Distributions has Mathematics\n",
            "Probability_Distributions has Mathematics\n",
            "Supervised_Learning has Artificial_Intelligence\n",
            "Unsupervised_Learning has Artificial_Intelligence\n",
            "Reinforcement_Learning has Artificial_Intelligence\n",
            "Multi_Layer_Perceptron has Neural_Network\n",
            "Convolutional_Neural_Network has Neural_Network\n",
            "Recurrent_Neural_Network has Neural_Network\n",
            "Matrix has Linear_Algebra\n",
            "Matrix has Mathematics\n",
            "Matrix has Mathematics\n",
            "Activation_Functions has Multi_Layer_Perceptron\n",
            "Activation_Functions has Neural_Network\n",
            "Activation_Functions has Neural_Network\n",
            "Optimization has Multi_Layer_Perceptron\n",
            "Optimization has Neural_Network\n",
            "Optimization has Neural_Network\n",
            "Loss_Function has Multi_Layer_Perceptron\n",
            "Loss_Function has Neural_Network\n",
            "Loss_Function has Neural_Network\n"
          ]
        }
      ]
    }
  ]
}